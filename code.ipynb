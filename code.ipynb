{
 "cells": [
  {
   "cell_type": "code",
   "execution_count": 1,
   "id": "6bff88ab-4052-4fa4-88c2-34e84084fb34",
   "metadata": {},
   "outputs": [],
   "source": [
    "from langchain_community.document_loaders import PyPDFLoader"
   ]
  },
  {
   "cell_type": "code",
   "execution_count": 2,
   "id": "e71b27f4-f402-4799-8d77-481b79a667f1",
   "metadata": {},
   "outputs": [],
   "source": [
    "loader = PyPDFLoader('06 - Todd Dickey - IRSC 2022 (Introduction to Industrial Robot Safety ISO 10218 Parts 1 and 2).pdf')\n",
    "documents=loader.load()  "
   ]
  },
  {
   "cell_type": "code",
   "execution_count": 3,
   "id": "332b7138-a9ec-4a71-8bec-47760d64db06",
   "metadata": {},
   "outputs": [],
   "source": [
    "# import required software for text splitting\n",
    "from langchain_text_splitters import RecursiveCharacterTextSplitter"
   ]
  },
  {
   "cell_type": "code",
   "execution_count": 4,
   "id": "82bb51ca-375a-4aeb-aa8c-09b52d10fc60",
   "metadata": {},
   "outputs": [],
   "source": [
    "text_splitter = RecursiveCharacterTextSplitter(\n",
    "    chunk_size=350,   \n",
    "    chunk_overlap=20,\n",
    ")"
   ]
  },
  {
   "cell_type": "code",
   "execution_count": 5,
   "id": "fe58dcc8-d133-48a3-a3cc-3b4cd3830172",
   "metadata": {},
   "outputs": [],
   "source": [
    "#let us load chunks\n",
    "mychunks=text_splitter.split_documents(documents) "
   ]
  },
  {
   "cell_type": "code",
   "execution_count": 6,
   "id": "0465a2f3-00a2-4374-8d90-5b6f6685a448",
   "metadata": {},
   "outputs": [],
   "source": [
    "from langchain_huggingface import HuggingFaceEmbeddings\n",
    "embeddings = HuggingFaceEmbeddings(model_name=\"sentence-transformers/all-mpnet-base-v2\")"
   ]
  },
  {
   "cell_type": "code",
   "execution_count": 7,
   "id": "adc4085a-ccdc-4f86-bc22-2084e076c4f1",
   "metadata": {},
   "outputs": [],
   "source": [
    "import faiss  \n",
    "from langchain_community.docstore.in_memory import InMemoryDocstore\n",
    "from langchain_community.vectorstores import FAISS    #this is used to create actual database\n",
    "\n",
    "index = faiss.IndexFlatL2(len(embeddings.embed_query(\"hello world\"))) \n",
    "\n",
    "vector_store = FAISS(\n",
    "    embedding_function=embeddings,\n",
    "    index=index,\n",
    "    docstore=InMemoryDocstore(),\n",
    "    index_to_docstore_id={},\n",
    ")"
   ]
  },
  {
   "cell_type": "code",
   "execution_count": 8,
   "id": "d7815ede-be4b-427f-a9a9-3e2d83349a5f",
   "metadata": {},
   "outputs": [
    {
     "data": {
      "text/plain": [
       "['364be8b7-026e-449c-89a9-7d1ee46e63bb',\n",
       " '73b733eb-bba6-4049-a04c-0fd20585bc17',\n",
       " 'a7da33f4-38d1-4632-b73d-02c89be2ed21',\n",
       " '94409405-61a5-4597-8f50-6b2abe5e60fd',\n",
       " '511627fa-98b6-41a6-8a1e-961e7a011976',\n",
       " '359dd92c-39a9-40f2-86bb-73f6bd58e965',\n",
       " '00b42cd9-3a6f-4bcf-8ae6-3bb695602a26',\n",
       " '4c43ba9b-3191-4d82-a8c3-12327f26ae9b',\n",
       " '2fef12c8-75d8-40e9-b32a-267a5e818838',\n",
       " '930d9986-00ed-4afb-9c17-d083d9dd24ba',\n",
       " '3c462fd7-100c-44c7-9494-070cec5a1b25',\n",
       " '5ccba67d-c828-4607-b444-2886e17f8684',\n",
       " 'cc09f35b-380e-4b8f-b096-b9aad5892dd3',\n",
       " '4d2476ff-5593-4bcd-81b7-b2ac453634c4',\n",
       " '642606f3-76d7-4d68-b3cf-c15acf9b66ef',\n",
       " 'a58dda1b-ac60-4c3a-b493-a9cdd5d0b569',\n",
       " 'd32f59fb-64b0-49e8-8999-ce4579550157',\n",
       " 'bf198904-8df0-499e-ac8d-74a853a18dc5',\n",
       " '0ad61fd1-787e-426f-92f7-c1c3477b92be',\n",
       " '605e5499-8837-4ed0-a8aa-daeefa61c8b8',\n",
       " 'd419ba85-57ef-4b10-956e-f644bfa9dfe1',\n",
       " '84b83cfe-81db-486a-9146-6d02694ce368',\n",
       " '4c823636-cb7a-485d-8df6-f581a8f73d82',\n",
       " '863b4e20-d6ea-4670-ab90-63066950dd18',\n",
       " '038bc989-88b9-4bb5-ab1d-ec8235d74a51',\n",
       " 'da5a70c2-f153-48cb-b203-2e42518afac5',\n",
       " 'e394cf20-c541-4886-aa98-ac724edf3d65',\n",
       " '957e0554-3c99-44d6-8197-26004694bde5',\n",
       " '571bfcea-e105-4224-9525-4cd1f4a1272f',\n",
       " 'aabf9a02-9699-4bfb-9c43-41d07eceecce',\n",
       " '4766ecc4-f04b-4f8b-aaef-1d9c987af27e',\n",
       " '4292035b-23de-4b68-959c-ebd906671a4d',\n",
       " '44d3ef78-4e7a-402c-94d2-7d3fc2edeeb1',\n",
       " '978793a1-7993-41b6-91d6-f5a53a7fb48b',\n",
       " 'a0046dda-880a-4896-a620-879a973de352',\n",
       " 'a01ae3eb-4b09-4dce-b3f5-816017ffd5f0',\n",
       " 'e383e41d-8972-404c-b403-d4e855e2cc8a',\n",
       " '78f629f8-d563-4779-a899-15b8272e8702']"
      ]
     },
     "execution_count": 8,
     "metadata": {},
     "output_type": "execute_result"
    }
   ],
   "source": [
    "vector_store.add_documents(documents=mychunks)"
   ]
  },
  {
   "cell_type": "code",
   "execution_count": 23,
   "id": "5b57d602-7115-4004-81d0-e5f08c124973",
   "metadata": {},
   "outputs": [
    {
     "name": "stdout",
     "output_type": "stream",
     "text": [
      "[Document(id='a0046dda-880a-4896-a620-879a973de352', metadata={'producer': 'Microsoft® PowerPoint® for Microsoft 365', 'creator': 'Microsoft® PowerPoint® for Microsoft 365', 'creationdate': '2022-09-28T06:55:41-04:00', 'title': 'PowerPoint Presentation', 'author': 'Robert Huschka', 'moddate': '2022-09-28T06:55:41-04:00', 'source': '06 - Todd Dickey - IRSC 2022 (Introduction to Industrial Robot Safety ISO 10218 Parts 1 and 2).pdf', 'total_pages': 26, 'page': 23, 'page_label': '24'}, page_content='Summary\\n● ISO 10218 and ANSI/RIA R15.06 are essentially the same.\\n● Standards are created by volunteers from a variety \\nprofessional disciplines. \\n● Standards provide normative and informative guidance and \\ncan be used as a means to achieve regulatory compliance.\\n● Functional safety ensures that safety functions relying on a')]\n",
      "<class 'langchain_core.documents.base.Document'>\n"
     ]
    }
   ],
   "source": [
    "context=vector_store.similarity_search( 'are ISO 10218 and ANSI/RIA R15.06 both same or different?',k=1)\n",
    "print(context) \n",
    "print(type(context[0]))"
   ]
  },
  {
   "cell_type": "code",
   "execution_count": 24,
   "id": "f40bdb2d-9fa9-4968-abff-281bb1eb20b8",
   "metadata": {},
   "outputs": [
    {
     "name": "stdout",
     "output_type": "stream",
     "text": [
      "Summary\n",
      "● ISO 10218 and ANSI/RIA R15.06 are essentially the same.\n",
      "● Standards are created by volunteers from a variety \n",
      "professional disciplines. \n",
      "● Standards provide normative and informative guidance and \n",
      "can be used as a means to achieve regulatory compliance.\n",
      "● Functional safety ensures that safety functions relying on a\n"
     ]
    }
   ],
   "source": [
    "actual_context=context[0].page_content\n",
    "print(actual_context)"
   ]
  },
  {
   "cell_type": "code",
   "execution_count": 29,
   "id": "2b512ab6-c3fa-4aaa-84ee-497aca6bc1e9",
   "metadata": {},
   "outputs": [],
   "source": [
    "our_question='are ISO 10218 and ANSI/RIA R15.06 both same or different?'\n",
    "\n",
    "our_prompt=f'''\n",
    "    i am asking a question , please answer from the given context \n",
    "    don't tell the answer if you dont't know.\n",
    "\n",
    "    context : {actual_context}\n",
    "    question : {our_question}\n",
    "'''"
   ]
  },
  {
   "cell_type": "code",
   "execution_count": 30,
   "id": "108a7979-ea25-4397-8d5e-7834da336af8",
   "metadata": {},
   "outputs": [],
   "source": [
    "import os \n",
    "os.environ[\"OPENAI_API_KEY\"] = \"enter secrete key\"\n"
   ]
  },
  {
   "cell_type": "code",
   "execution_count": 31,
   "id": "44518940-fc23-42eb-966c-2d3fd0963015",
   "metadata": {},
   "outputs": [
    {
     "name": "stdout",
     "output_type": "stream",
     "text": [
      "ISO 10218 and ANSI/RIA R15.06 are essentially the same.\n"
     ]
    }
   ],
   "source": [
    "from openai import OpenAI\n",
    "client = OpenAI()\n",
    "\n",
    "response = client.responses.create(\n",
    "    model=\"gpt-4o-mini\",\n",
    "    input=our_prompt\n",
    ")\n",
    "\n",
    "print(response.output_text)"
   ]
  },
  {
   "cell_type": "code",
   "execution_count": null,
   "id": "db239d55-baed-486c-975d-9015d3891d1d",
   "metadata": {},
   "outputs": [],
   "source": []
  }
 ],
 "metadata": {
  "kernelspec": {
   "display_name": "Python 3 (ipykernel)",
   "language": "python",
   "name": "python3"
  },
  "language_info": {
   "codemirror_mode": {
    "name": "ipython",
    "version": 3
   },
   "file_extension": ".py",
   "mimetype": "text/x-python",
   "name": "python",
   "nbconvert_exporter": "python",
   "pygments_lexer": "ipython3",
   "version": "3.13.2"
  }
 },
 "nbformat": 4,
 "nbformat_minor": 5
}
